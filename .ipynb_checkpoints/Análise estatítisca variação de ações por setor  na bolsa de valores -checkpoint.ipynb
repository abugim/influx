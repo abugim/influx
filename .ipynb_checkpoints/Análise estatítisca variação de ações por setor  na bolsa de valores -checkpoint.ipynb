{
 "cells": [
  {
   "cell_type": "code",
   "execution_count": 3,
   "metadata": {
    "collapsed": false
   },
   "outputs": [
    {
     "name": "stderr",
     "output_type": "stream",
     "text": [
      "\n",
      "Attaching package: 'lubridate'\n",
      "\n",
      "The following object is masked from 'package:base':\n",
      "\n",
      "    date\n",
      "\n"
     ]
    }
   ],
   "source": [
    "setwd(\"C:/Users/ruteee/Documents/Sistemas Probabilisticos\")\n",
    "library(lubridate)\n",
    "sectorData <- read.csv(file=\"sector_variation.csv\", header=TRUE, sep=\",\")\n",
    "order.data <- order(sectorData$setor)\n",
    "sectorOrdenado <- sectorData[order.data, ]\n"
   ]
  },
  {
   "cell_type": "code",
   "execution_count": 15,
   "metadata": {
    "collapsed": false
   },
   "outputs": [
    {
     "name": "stdout",
     "output_type": "stream",
     "text": [
      "[1] 0.4812676\n"
     ]
    },
    {
     "data": {
      "text/html": [
       "<table>\n",
       "<thead><tr><th></th><th scope=col>Basic.Industries</th><th scope=col>Capital.Goods</th><th scope=col>Consumer.Durables</th><th scope=col>Consumer.Non.Durables</th><th scope=col>Consumer.Services</th><th scope=col>Energy</th><th scope=col>Finance</th><th scope=col>Health.Care</th><th scope=col>Miscellaneous</th><th scope=col>Public.Utilities</th><th scope=col>Technology</th><th scope=col>Transportation</th></tr></thead>\n",
       "<tbody>\n",
       "\t<tr><th scope=row>Basic Industries</th><td>1.00</td><td>0.90</td><td>0.86</td><td>0.82</td><td>0.82</td><td>0.83</td><td>0.76</td><td>0.57</td><td>0.76</td><td>0.20</td><td>0.82</td><td>0.78</td></tr>\n",
       "\t<tr><th scope=row>Capital Goods</th><td>0.90</td><td>1.00</td><td>0.94</td><td>0.88</td><td>0.90</td><td>0.75</td><td>0.83</td><td>0.67</td><td>0.85</td><td>0.21</td><td>0.90</td><td>0.83</td></tr>\n",
       "\t<tr><th scope=row>Consumer Durables</th><td>0.86</td><td>0.94</td><td>1.00</td><td>0.90</td><td>0.91</td><td>0.70</td><td>0.83</td><td>0.66</td><td>0.82</td><td>0.21</td><td>0.88</td><td>0.82</td></tr>\n",
       "\t<tr><th scope=row>Consumer Non-Durables</th><td>0.82</td><td>0.88</td><td>0.90</td><td>1.00</td><td>0.91</td><td>0.67</td><td>0.79</td><td>0.64</td><td>0.82</td><td>0.22</td><td>0.85</td><td>0.78</td></tr>\n",
       "\t<tr><th scope=row>Consumer Services</th><td>0.82</td><td>0.90</td><td>0.91</td><td>0.91</td><td>1.00</td><td>0.68</td><td>0.82</td><td>0.68</td><td>0.85</td><td>0.21</td><td>0.87</td><td>0.80</td></tr>\n",
       "\t<tr><th scope=row>Energy</th><td>0.83</td><td>0.75</td><td>0.70</td><td>0.67</td><td>0.68</td><td>1.00</td><td>0.64</td><td>0.46</td><td>0.65</td><td>0.21</td><td>0.68</td><td>0.68</td></tr>\n",
       "\t<tr><th scope=row>Finance</th><td>0.76</td><td>0.83</td><td>0.83</td><td>0.79</td><td>0.82</td><td>0.64</td><td>1.00</td><td>0.58</td><td>0.72</td><td>0.19</td><td>0.77</td><td>0.74</td></tr>\n",
       "\t<tr><th scope=row>Health Care</th><td>0.57</td><td>0.67</td><td>0.66</td><td>0.64</td><td>0.68</td><td>0.46</td><td>0.58</td><td>1.00</td><td>0.70</td><td>0.15</td><td>0.74</td><td>0.58</td></tr>\n",
       "\t<tr><th scope=row>Miscellaneous</th><td>0.76</td><td>0.85</td><td>0.82</td><td>0.82</td><td>0.85</td><td>0.65</td><td>0.72</td><td>0.70</td><td>1.00</td><td>0.18</td><td>0.92</td><td>0.72</td></tr>\n",
       "\t<tr><th scope=row>Public Utilities</th><td>0.20</td><td>0.21</td><td>0.21</td><td>0.22</td><td>0.21</td><td>0.21</td><td>0.19</td><td>0.15</td><td>0.18</td><td>1.00</td><td>0.20</td><td>0.19</td></tr>\n",
       "\t<tr><th scope=row>Technology</th><td>0.82</td><td>0.90</td><td>0.88</td><td>0.85</td><td>0.87</td><td>0.68</td><td>0.77</td><td>0.74</td><td>0.92</td><td>0.20</td><td>1.00</td><td>0.77</td></tr>\n",
       "\t<tr><th scope=row>Transportation</th><td>0.78</td><td>0.83</td><td>0.82</td><td>0.78</td><td>0.80</td><td>0.68</td><td>0.74</td><td>0.58</td><td>0.72</td><td>0.19</td><td>0.77</td><td>1.00</td></tr>\n",
       "</tbody>\n",
       "</table>\n"
      ],
      "text/latex": [
       "\\begin{tabular}{r|llllllllllll}\n",
       "  & Basic.Industries & Capital.Goods & Consumer.Durables & Consumer.Non.Durables & Consumer.Services & Energy & Finance & Health.Care & Miscellaneous & Public.Utilities & Technology & Transportation\\\\\n",
       "\\hline\n",
       "\tBasic Industries & 1.00 & 0.90 & 0.86 & 0.82 & 0.82 & 0.83 & 0.76 & 0.57 & 0.76 & 0.20 & 0.82 & 0.78\\\\\n",
       "\tCapital Goods & 0.90 & 1.00 & 0.94 & 0.88 & 0.90 & 0.75 & 0.83 & 0.67 & 0.85 & 0.21 & 0.90 & 0.83\\\\\n",
       "\tConsumer Durables & 0.86 & 0.94 & 1.00 & 0.90 & 0.91 & 0.70 & 0.83 & 0.66 & 0.82 & 0.21 & 0.88 & 0.82\\\\\n",
       "\tConsumer Non-Durables & 0.82 & 0.88 & 0.90 & 1.00 & 0.91 & 0.67 & 0.79 & 0.64 & 0.82 & 0.22 & 0.85 & 0.78\\\\\n",
       "\tConsumer Services & 0.82 & 0.90 & 0.91 & 0.91 & 1.00 & 0.68 & 0.82 & 0.68 & 0.85 & 0.21 & 0.87 & 0.80\\\\\n",
       "\tEnergy & 0.83 & 0.75 & 0.70 & 0.67 & 0.68 & 1.00 & 0.64 & 0.46 & 0.65 & 0.21 & 0.68 & 0.68\\\\\n",
       "\tFinance & 0.76 & 0.83 & 0.83 & 0.79 & 0.82 & 0.64 & 1.00 & 0.58 & 0.72 & 0.19 & 0.77 & 0.74\\\\\n",
       "\tHealth Care & 0.57 & 0.67 & 0.66 & 0.64 & 0.68 & 0.46 & 0.58 & 1.00 & 0.70 & 0.15 & 0.74 & 0.58\\\\\n",
       "\tMiscellaneous & 0.76 & 0.85 & 0.82 & 0.82 & 0.85 & 0.65 & 0.72 & 0.70 & 1.00 & 0.18 & 0.92 & 0.72\\\\\n",
       "\tPublic Utilities & 0.20 & 0.21 & 0.21 & 0.22 & 0.21 & 0.21 & 0.19 & 0.15 & 0.18 & 1.00 & 0.20 & 0.19\\\\\n",
       "\tTechnology & 0.82 & 0.90 & 0.88 & 0.85 & 0.87 & 0.68 & 0.77 & 0.74 & 0.92 & 0.20 & 1.00 & 0.77\\\\\n",
       "\tTransportation & 0.78 & 0.83 & 0.82 & 0.78 & 0.80 & 0.68 & 0.74 & 0.58 & 0.72 & 0.19 & 0.77 & 1.00\\\\\n",
       "\\end{tabular}\n"
      ],
      "text/markdown": [
       "\n",
       "| <!--/--> | Basic.Industries | Capital.Goods | Consumer.Durables | Consumer.Non.Durables | Consumer.Services | Energy | Finance | Health.Care | Miscellaneous | Public.Utilities | Technology | Transportation | \n",
       "|---|---|---|---|---|---|---|---|---|---|---|---|\n",
       "| Basic Industries | 1.00 | 0.90 | 0.86 | 0.82 | 0.82 | 0.83 | 0.76 | 0.57 | 0.76 | 0.20 | 0.82 | 0.78 | \n",
       "| Capital Goods | 0.90 | 1.00 | 0.94 | 0.88 | 0.90 | 0.75 | 0.83 | 0.67 | 0.85 | 0.21 | 0.90 | 0.83 | \n",
       "| Consumer Durables | 0.86 | 0.94 | 1.00 | 0.90 | 0.91 | 0.70 | 0.83 | 0.66 | 0.82 | 0.21 | 0.88 | 0.82 | \n",
       "| Consumer Non-Durables | 0.82 | 0.88 | 0.90 | 1.00 | 0.91 | 0.67 | 0.79 | 0.64 | 0.82 | 0.22 | 0.85 | 0.78 | \n",
       "| Consumer Services | 0.82 | 0.90 | 0.91 | 0.91 | 1.00 | 0.68 | 0.82 | 0.68 | 0.85 | 0.21 | 0.87 | 0.80 | \n",
       "| Energy | 0.83 | 0.75 | 0.70 | 0.67 | 0.68 | 1.00 | 0.64 | 0.46 | 0.65 | 0.21 | 0.68 | 0.68 | \n",
       "| Finance | 0.76 | 0.83 | 0.83 | 0.79 | 0.82 | 0.64 | 1.00 | 0.58 | 0.72 | 0.19 | 0.77 | 0.74 | \n",
       "| Health Care | 0.57 | 0.67 | 0.66 | 0.64 | 0.68 | 0.46 | 0.58 | 1.00 | 0.70 | 0.15 | 0.74 | 0.58 | \n",
       "| Miscellaneous | 0.76 | 0.85 | 0.82 | 0.82 | 0.85 | 0.65 | 0.72 | 0.70 | 1.00 | 0.18 | 0.92 | 0.72 | \n",
       "| Public Utilities | 0.20 | 0.21 | 0.21 | 0.22 | 0.21 | 0.21 | 0.19 | 0.15 | 0.18 | 1.00 | 0.20 | 0.19 | \n",
       "| Technology | 0.82 | 0.90 | 0.88 | 0.85 | 0.87 | 0.68 | 0.77 | 0.74 | 0.92 | 0.20 | 1.00 | 0.77 | \n",
       "| Transportation | 0.78 | 0.83 | 0.82 | 0.78 | 0.80 | 0.68 | 0.74 | 0.58 | 0.72 | 0.19 | 0.77 | 1.00 | \n",
       "\n",
       "\n"
      ],
      "text/plain": [
       "                      Basic.Industries Capital.Goods Consumer.Durables\n",
       "Basic Industries      1.00             0.90          0.86             \n",
       "Capital Goods         0.90             1.00          0.94             \n",
       "Consumer Durables     0.86             0.94          1.00             \n",
       "Consumer Non-Durables 0.82             0.88          0.90             \n",
       "Consumer Services     0.82             0.90          0.91             \n",
       "Energy                0.83             0.75          0.70             \n",
       "Finance               0.76             0.83          0.83             \n",
       "Health Care           0.57             0.67          0.66             \n",
       "Miscellaneous         0.76             0.85          0.82             \n",
       "Public Utilities      0.20             0.21          0.21             \n",
       "Technology            0.82             0.90          0.88             \n",
       "Transportation        0.78             0.83          0.82             \n",
       "                      Consumer.Non.Durables Consumer.Services Energy Finance\n",
       "Basic Industries      0.82                  0.82              0.83   0.76   \n",
       "Capital Goods         0.88                  0.90              0.75   0.83   \n",
       "Consumer Durables     0.90                  0.91              0.70   0.83   \n",
       "Consumer Non-Durables 1.00                  0.91              0.67   0.79   \n",
       "Consumer Services     0.91                  1.00              0.68   0.82   \n",
       "Energy                0.67                  0.68              1.00   0.64   \n",
       "Finance               0.79                  0.82              0.64   1.00   \n",
       "Health Care           0.64                  0.68              0.46   0.58   \n",
       "Miscellaneous         0.82                  0.85              0.65   0.72   \n",
       "Public Utilities      0.22                  0.21              0.21   0.19   \n",
       "Technology            0.85                  0.87              0.68   0.77   \n",
       "Transportation        0.78                  0.80              0.68   0.74   \n",
       "                      Health.Care Miscellaneous Public.Utilities Technology\n",
       "Basic Industries      0.57        0.76          0.20             0.82      \n",
       "Capital Goods         0.67        0.85          0.21             0.90      \n",
       "Consumer Durables     0.66        0.82          0.21             0.88      \n",
       "Consumer Non-Durables 0.64        0.82          0.22             0.85      \n",
       "Consumer Services     0.68        0.85          0.21             0.87      \n",
       "Energy                0.46        0.65          0.21             0.68      \n",
       "Finance               0.58        0.72          0.19             0.77      \n",
       "Health Care           1.00        0.70          0.15             0.74      \n",
       "Miscellaneous         0.70        1.00          0.18             0.92      \n",
       "Public Utilities      0.15        0.18          1.00             0.20      \n",
       "Technology            0.74        0.92          0.20             1.00      \n",
       "Transportation        0.58        0.72          0.19             0.77      \n",
       "                      Transportation\n",
       "Basic Industries      0.78          \n",
       "Capital Goods         0.83          \n",
       "Consumer Durables     0.82          \n",
       "Consumer Non-Durables 0.78          \n",
       "Consumer Services     0.80          \n",
       "Energy                0.68          \n",
       "Finance               0.74          \n",
       "Health Care           0.58          \n",
       "Miscellaneous         0.72          \n",
       "Public Utilities      0.19          \n",
       "Technology            0.77          \n",
       "Transportation        1.00          "
      ]
     },
     "metadata": {},
     "output_type": "display_data"
    },
    {
     "data": {
      "image/png": "[encoded data removed]",
      "text/plain": [
       "Plot with title \"Variáveis Aleatórias\""
      ]
     },
     "metadata": {},
     "output_type": "display_data"
    }
   ],
   "source": [
    "setores <-unique(sectorOrdenado$setor)\n",
    "listaFramesPorSetor <- list()\n",
    "listaAmostrasPorSetor <- list() \n",
    "listaCorrelacoesPorSetor <- list()\n",
    "\n",
    "for (i in 1:12){\n",
    "    filtro <- sectorOrdenado$setor == setores[i]    \n",
    "    listaFramesPorSetor[[i]] <- sectorOrdenado[filtro,]\n",
    "    listaAmostrasPorSetor[[i]] <- sectorOrdenado[filtro,]$variacao\n",
    "}\n",
    "\n",
    "correlacoesPorSetor <- vector(mode='double', length=12)\n",
    "for(j in 1:12){\n",
    "    x <- unlist(listaAmostrasPorSetor[j])\n",
    "    for(k in 1:12){\n",
    "        y <- unlist(listaAmostrasPorSetor[k])\n",
    "        correlacoesPorSetor[k] <- cor(x,y)\n",
    "    }\n",
    "    listaCorrelacoesPorSetor[[j]] <- round(correlacoesPorSetor, 2)\n",
    "    #print(mean(unlist(listaCorrelacoesPorSetor[[j]])))\n",
    "    correlacoesPorSetor <- round(replace(correlacoesPorSetor, seq(1:12), 0),2)\n",
    "    \n",
    "}\n",
    "\n",
    "densidadeSetor1 <- density(unlist(listaFramesPorSetor[[1]][3]), from = -400, to = 400)\n",
    "#print(mean(unlist(listaFramesPorSetor[[1]][3])))\n",
    "cores <- c(\"#e6194b\", \"#3cb44b\",\"#ffe119\", \"#0082c8\", \"#f58231\", \"#911eb4\",\n",
    "          \"#46f0f0\", \"#00FF0C\",  \"#800000\", \"#e6beff\", \"#421601\", \"#f464C2\")\n",
    "\n",
    "plot(densidadeSetor1, col=cores[1],  ylim = c(0, 0.020), main=\"Variáveis Aleatórias\", lwd=2)\n",
    "for(l in 2:12){\n",
    "    #print(mean(unlist(listaFramesPorSetor[[l]][3])))\n",
    "   lines(density(unlist(listaFramesPorSetor[[l]][3]), from= -400, to=400), ylim= c(0, 0.02), col=cores[l], lwd = 2)\n",
    "}\n",
    "\n",
    "\n",
    "\n",
    "legend(70, 0.018,\n",
    "       setores,\n",
    "       lty = 1,\n",
    "       lwd = 2,\n",
    "       col = cores,\n",
    "       angle = 45,\n",
    "       seg.len=1,\n",
    "       text.width = 265)\n",
    "\n",
    "dataFrameCorrelacoes = as.data.frame(listaCorrelacoesPorSetor, col.names = setores, row.names=setores)\n",
    "#write.csv(dataFrameCorrelacoes, \"C:/Users/ruteee/Documents/git/influx/MatrizCorrelacao.csv\")\n",
    "dataFrameCorrelacoes"
   ]
  },
  {
   "cell_type": "code",
   "execution_count": null,
   "metadata": {
    "collapsed": true
   },
   "outputs": [],
   "source": []
  },
  {
   "cell_type": "code",
   "execution_count": null,
   "metadata": {
    "collapsed": true
   },
   "outputs": [],
   "source": []
  }
 ],
 "metadata": {
  "kernelspec": {
   "display_name": "R",
   "language": "R",
   "name": "ir"
  },
  "language_info": {
   "codemirror_mode": "r",
   "file_extension": ".r",
   "mimetype": "text/x-r-source",
   "name": "R",
   "pygments_lexer": "r",
   "version": "3.3.2"
  }
 },
 "nbformat": 4,
 "nbformat_minor": 2
}
